{
 "cells": [
  {
   "cell_type": "markdown",
   "metadata": {},
   "source": [
    "# Script for generating a useful graphic for quickly estimating the relationship between the color, wavelength, and energy of light in the visible spectrum"
   ]
  },
  {
   "cell_type": "code",
   "execution_count": 1,
   "metadata": {},
   "outputs": [
    {
     "data": {
      "text/html": [
       "<style>.container { width:90% !important; }</style>"
      ],
      "text/plain": [
       "<IPython.core.display.HTML object>"
      ]
     },
     "metadata": {},
     "output_type": "display_data"
    }
   ],
   "source": [
    "from IPython.core.display import display, HTML\n",
    "display(HTML(\"<style>.container { width:90% !important; }</style>\"))\n",
    "\n",
    "import numpy as np\n",
    "import matplotlib.pyplot as plt\n",
    "\n",
    "def wavelength_to_rgb(wavelength, gamma=0.8):\n",
    "\n",
    "    '''This converts a given wavelength of light to an \n",
    "    approximate RGB color value. The wavelength must be given\n",
    "    in nanometers in the range from 380 nm through 750 nm\n",
    "    (789 THz through 400 THz).\n",
    "\n",
    "    Based on code by Dan Bruton\n",
    "    http://www.physics.sfasu.edu/astro/color/spectra.html\n",
    "    '''\n",
    "\n",
    "    wavelength = float(wavelength)\n",
    "    if wavelength >= 380 and wavelength <= 440:\n",
    "        attenuation = 0.3 + 0.7 * (wavelength - 380) / (440 - 380)\n",
    "        R = ((-(wavelength - 440) / (440 - 380)) * attenuation) ** gamma\n",
    "        G = 0.0\n",
    "        B = (1.0 * attenuation) ** gamma\n",
    "    elif wavelength >= 440 and wavelength <= 490:\n",
    "        R = 0.0\n",
    "        G = ((wavelength - 440) / (490 - 440)) ** gamma\n",
    "        B = 1.0\n",
    "    elif wavelength >= 490 and wavelength <= 510:\n",
    "        R = 0.0\n",
    "        G = 1.0\n",
    "        B = (-(wavelength - 510) / (510 - 490)) ** gamma\n",
    "    elif wavelength >= 510 and wavelength <= 580:\n",
    "        R = ((wavelength - 510) / (580 - 510)) ** gamma\n",
    "        G = 1.0\n",
    "        B = 0.0\n",
    "    elif wavelength >= 580 and wavelength <= 645:\n",
    "        R = 1.0\n",
    "        G = (-(wavelength - 645) / (645 - 580)) ** gamma\n",
    "        B = 0.0\n",
    "    elif wavelength >= 645 and wavelength <= 750:\n",
    "        attenuation = 0.3 + 0.7 * (750 - wavelength) / (750 - 645)\n",
    "        R = (1.0 * attenuation) ** gamma\n",
    "        G = 0.0\n",
    "        B = 0.0\n",
    "    else:\n",
    "        R = 0.0\n",
    "        G = 0.0\n",
    "        B = 0.0\n",
    "    R *= 255\n",
    "    G *= 255\n",
    "    B *= 255\n",
    "    return (int(R), int(G), int(B))\n",
    "\n",
    "def wavelength_to_energy(nm):\n",
    "    return 1240/nm"
   ]
  },
  {
   "cell_type": "code",
   "execution_count": 18,
   "metadata": {},
   "outputs": [
    {
     "data": {
      "image/png": "[encoded data removed]",
      "text/plain": [
       "<Figure size 1209.6x403.2 with 2 Axes>"
      ]
     },
     "metadata": {
      "needs_background": "light"
     },
     "output_type": "display_data"
    }
   ],
   "source": [
    "#range of wavelengths to display (in nm)\n",
    "bot = 350\n",
    "top = 800\n",
    "step =0.25\n",
    "\n",
    "#generate the wavelength and color values\n",
    "wls = np.arange(bot,top+step,step)\n",
    "colors = np.array([wavelength_to_rgb(w) for w in wls])\n",
    "\n",
    "#generate the wavelength ticks\n",
    "tick_wls = np.arange(bot,top+25,25)\n",
    "tick_pos = [(wls==tick_wls[x]).argmax() for x in range(len(tick_wls))]\n",
    "\n",
    "s=1.4\n",
    "fig,ax = plt.subplots(1,1,figsize=(12*s,4*s))\n",
    "img = np.array([np.vstack([c for _ in range(512)]) for c in colors])\n",
    "img = np.swapaxes(img,0,1)\n",
    "ax.imshow(img)\n",
    "\n",
    "ax.set_xticks(tick_pos)\n",
    "ax.set_xticklabels(tick_wls)\n",
    "ax.set_xlabel('Wavelength (nm)',labelpad=12,fontsize=18)\n",
    "ax.set_yticks([])\n",
    "ax.set_xlim(0,len(wls))\n",
    "ax.set_ylim(-1,512)\n",
    "\n",
    "ax2 = fig.add_axes(ax.get_position())\n",
    "ax2.tick_params(labelbottom=False,labeltop=True, labelleft=False, labelright=False,\n",
    "    bottom=False, left=False, right=False,top=True)\n",
    "ax2.set_xlim(ax.get_xlim())\n",
    "ax2.set_ylim(ax.get_ylim())\n",
    "ax2.imshow(img)\n",
    "ax2.set_position(ax.get_position())\n",
    "\n",
    "#The energy ticks were written manually for maximum aesthetics\n",
    "tick_ener = np.array(['3.4','3.2','3.0','2.9','2.8','2.7','2.6','2.5','2.4','2.3','2.2','2.1','2.0','1.95','1.90','1.85','1.80','1.75','1.70','1.65','1.60'])\n",
    "all_e = np.array([wavelength_to_energy(w) for w in wls])\n",
    "#utility function for plotting energy ticks\n",
    "def find_nearest(array, value):\n",
    "    idx = (np.abs(array - value)).argmin()\n",
    "    return idx\n",
    "\n",
    "tick_e_pos = [find_nearest(all_e,float(e)) for e in tick_ener]\n",
    "ax2.set_xticks(tick_e_pos)\n",
    "\n",
    "ax2.set_xticklabels(tick_ener)\n",
    "ax2.set_xlabel('Energy (eV)',labelpad=10,fontsize=18)\n",
    "ax2.xaxis.set_label_position('top') \n",
    "\n",
    "ax.tick_params(axis='both', which='major', labelsize=13)\n",
    "ax2.tick_params(axis='both', which='major', labelsize=13)\n",
    "\n",
    "plt.show()\n",
    "#plt.savefig('UV-Vis-IR.pdf',dpi=300)"
   ]
  }
 ],
 "metadata": {
  "kernelspec": {
   "display_name": "Python 3",
   "language": "python",
   "name": "python3"
  },
  "language_info": {
   "codemirror_mode": {
    "name": "ipython",
    "version": 3
   },
   "file_extension": ".py",
   "mimetype": "text/x-python",
   "name": "python",
   "nbconvert_exporter": "python",
   "pygments_lexer": "ipython3",
   "version": "3.7.3"
  }
 },
 "nbformat": 4,
 "nbformat_minor": 2
}
